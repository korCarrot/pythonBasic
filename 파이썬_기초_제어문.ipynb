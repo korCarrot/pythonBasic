{
  "cells": [
    {
      "cell_type": "markdown",
      "metadata": {
        "id": "view-in-github",
        "colab_type": "text"
      },
      "source": [
        "<a href=\"https://colab.research.google.com/github/korCarrot/pythonBasic/blob/main/%ED%8C%8C%EC%9D%B4%EC%8D%AC_%EA%B8%B0%EC%B4%88_%EC%A0%9C%EC%96%B4%EB%AC%B8.ipynb\" target=\"_parent\"><img src=\"https://colab.research.google.com/assets/colab-badge.svg\" alt=\"Open In Colab\"/></a>"
      ]
    },
    {
      "cell_type": "code",
      "execution_count": null,
      "id": "b8311708",
      "metadata": {
        "id": "b8311708",
        "outputId": "00cc2cd8-24e5-4838-9a27-0943ea2c8ad1"
      },
      "outputs": [
        {
          "name": "stdout",
          "output_type": "stream",
          "text": [
            "hi\n"
          ]
        }
      ],
      "source": [
        "if True:\n",
        "    print(\"hi\")"
      ]
    },
    {
      "cell_type": "code",
      "execution_count": null,
      "id": "5c4457a2",
      "metadata": {
        "id": "5c4457a2",
        "outputId": "dea97aae-f98f-4a03-a611-b51729f489f6"
      },
      "outputs": [
        {
          "name": "stdout",
          "output_type": "stream",
          "text": [
            "not\n"
          ]
        }
      ],
      "source": [
        "if False:\n",
        "    print(\"hi\")\n",
        "else:\n",
        "    print(\"not\")"
      ]
    },
    {
      "cell_type": "code",
      "execution_count": null,
      "id": "72b60a55",
      "metadata": {
        "id": "72b60a55",
        "outputId": "a9c61379-b147-44d7-e1db-276b4339ea99"
      },
      "outputs": [
        {
          "name": "stdout",
          "output_type": "stream",
          "text": [
            "C\n"
          ]
        }
      ],
      "source": [
        "if False:\n",
        "    print(\"A\")\n",
        "elif False:\n",
        "    print(\"B\")\n",
        "else:\n",
        "    print(\"C\")"
      ]
    },
    {
      "cell_type": "code",
      "execution_count": null,
      "id": "6b2c1a2a",
      "metadata": {
        "id": "6b2c1a2a"
      },
      "outputs": [],
      "source": [
        "# 반복문"
      ]
    },
    {
      "cell_type": "code",
      "execution_count": null,
      "id": "9626e852",
      "metadata": {
        "id": "9626e852"
      },
      "outputs": [],
      "source": [
        "# 숫자 찍기"
      ]
    },
    {
      "cell_type": "code",
      "execution_count": null,
      "id": "7b2aa15f",
      "metadata": {
        "id": "7b2aa15f"
      },
      "outputs": [],
      "source": [
        "# help(range)"
      ]
    },
    {
      "cell_type": "code",
      "execution_count": null,
      "id": "d7511459",
      "metadata": {
        "id": "d7511459"
      },
      "outputs": [],
      "source": [
        "# list(range(5))"
      ]
    },
    {
      "cell_type": "code",
      "execution_count": null,
      "id": "05c62379",
      "metadata": {
        "id": "05c62379",
        "outputId": "e4668ee0-2f7e-4c3c-f268-c3f4f847aa17"
      },
      "outputs": [
        {
          "name": "stdout",
          "output_type": "stream",
          "text": [
            "0\n",
            "1\n",
            "2\n",
            "3\n",
            "4\n"
          ]
        }
      ],
      "source": [
        "for i in range(5):\n",
        "    print(i)"
      ]
    },
    {
      "cell_type": "code",
      "execution_count": null,
      "id": "c988a30f",
      "metadata": {
        "id": "c988a30f"
      },
      "outputs": [],
      "source": [
        "# 컬렉션(iterable) : 문자열, 배열 / 리스트, 튜플 , 딕셔너리, 셋"
      ]
    },
    {
      "cell_type": "code",
      "execution_count": null,
      "id": "14f99ad0",
      "metadata": {
        "id": "14f99ad0",
        "outputId": "205a9017-eede-4aaf-b713-c33b4d9d3631"
      },
      "outputs": [
        {
          "name": "stdout",
          "output_type": "stream",
          "text": [
            "h\n",
            "e\n",
            "l\n",
            "l\n",
            "o\n"
          ]
        }
      ],
      "source": [
        "for i in \"hello\":\n",
        "    print(i)"
      ]
    },
    {
      "cell_type": "code",
      "execution_count": null,
      "id": "9ddf7f2d",
      "metadata": {
        "id": "9ddf7f2d"
      },
      "outputs": [],
      "source": [
        "import numpy as np"
      ]
    },
    {
      "cell_type": "code",
      "execution_count": null,
      "id": "c8b503d4",
      "metadata": {
        "id": "c8b503d4",
        "outputId": "e6ba9b7d-5c0b-4830-d721-1a21851fdb1c"
      },
      "outputs": [
        {
          "data": {
            "text/plain": [
              "array([1, 2, 3])"
            ]
          },
          "execution_count": 20,
          "metadata": {},
          "output_type": "execute_result"
        }
      ],
      "source": [
        "np.array([1,2,3])"
      ]
    },
    {
      "cell_type": "code",
      "execution_count": null,
      "id": "633f11b1",
      "metadata": {
        "id": "633f11b1"
      },
      "outputs": [],
      "source": [
        "arr1=np.array([1,2,3])"
      ]
    },
    {
      "cell_type": "code",
      "execution_count": null,
      "id": "c38abe0d",
      "metadata": {
        "id": "c38abe0d",
        "outputId": "8dff907b-34a2-467b-b54e-c400f04db027"
      },
      "outputs": [
        {
          "data": {
            "text/plain": [
              "numpy.ndarray"
            ]
          },
          "execution_count": 22,
          "metadata": {},
          "output_type": "execute_result"
        }
      ],
      "source": [
        "type(arr1)"
      ]
    },
    {
      "cell_type": "code",
      "execution_count": null,
      "id": "cab100ef",
      "metadata": {
        "id": "cab100ef",
        "outputId": "88ca696d-600c-4ee6-a34d-6fd2be94abb9"
      },
      "outputs": [
        {
          "name": "stdout",
          "output_type": "stream",
          "text": [
            "1\n",
            "2\n",
            "3\n"
          ]
        }
      ],
      "source": [
        "for i in arr1:\n",
        "    print(i)"
      ]
    },
    {
      "cell_type": "code",
      "execution_count": null,
      "id": "9c614223",
      "metadata": {
        "id": "9c614223"
      },
      "outputs": [],
      "source": [
        "li1=[1,'a',False]"
      ]
    },
    {
      "cell_type": "code",
      "execution_count": null,
      "id": "5debd9d9",
      "metadata": {
        "id": "5debd9d9",
        "outputId": "ead2858a-2313-43e1-b553-721c5675e354"
      },
      "outputs": [
        {
          "name": "stdout",
          "output_type": "stream",
          "text": [
            "1\n",
            "a\n",
            "False\n"
          ]
        }
      ],
      "source": [
        "for i in li1:\n",
        "    print(i)"
      ]
    },
    {
      "cell_type": "code",
      "execution_count": null,
      "id": "67e5c694",
      "metadata": {
        "id": "67e5c694"
      },
      "outputs": [],
      "source": [
        "tu1=(1,'a',False)"
      ]
    },
    {
      "cell_type": "code",
      "execution_count": null,
      "id": "0f5d3ac9",
      "metadata": {
        "id": "0f5d3ac9",
        "outputId": "3b28fdc3-f539-43ef-b7f6-2b8abc52eb16"
      },
      "outputs": [
        {
          "name": "stdout",
          "output_type": "stream",
          "text": [
            "1\n",
            "a\n",
            "False\n"
          ]
        }
      ],
      "source": [
        "for i in tu1:\n",
        "    print(i)"
      ]
    },
    {
      "cell_type": "code",
      "execution_count": null,
      "id": "d7b95faf",
      "metadata": {
        "id": "d7b95faf"
      },
      "outputs": [],
      "source": [
        "di1={'a':'apple', 'b':'banana'}"
      ]
    },
    {
      "cell_type": "code",
      "execution_count": null,
      "id": "2b62d99c",
      "metadata": {
        "id": "2b62d99c",
        "outputId": "c041503a-cc5b-4e37-b199-3faac5c01dc5"
      },
      "outputs": [
        {
          "name": "stdout",
          "output_type": "stream",
          "text": [
            "a\n",
            "b\n"
          ]
        }
      ],
      "source": [
        "# 키만 뽑아내기\n",
        "for i in di1:\n",
        "    print(i)"
      ]
    },
    {
      "cell_type": "code",
      "execution_count": null,
      "id": "1ceea031",
      "metadata": {
        "id": "1ceea031",
        "outputId": "9dbe12f6-1fe4-4b67-a2a0-553f5e631d59"
      },
      "outputs": [
        {
          "name": "stdout",
          "output_type": "stream",
          "text": [
            "키: a, 값: apple\n",
            "키: b, 값: banana\n"
          ]
        }
      ],
      "source": [
        "# 전체 뽑아내기\n",
        "for (k,v) in di1.items():\n",
        "    print(\"키: %s, 값: %s\" %(k,v))"
      ]
    },
    {
      "cell_type": "code",
      "execution_count": null,
      "id": "0d277df1",
      "metadata": {
        "id": "0d277df1",
        "outputId": "44106497-d02d-49bb-bf7c-d89c97b6ad74"
      },
      "outputs": [
        {
          "name": "stdout",
          "output_type": "stream",
          "text": [
            "값: apple\n",
            "값: banana\n"
          ]
        }
      ],
      "source": [
        "# 값만 뽑아내기\n",
        "for (k,v) in di1.items():\n",
        "    print(\"값: %s\" %(v))"
      ]
    },
    {
      "cell_type": "code",
      "execution_count": null,
      "id": "d21b562c",
      "metadata": {
        "id": "d21b562c",
        "outputId": "9e0cb3fc-2f4c-4765-c9a3-3ae55da79303"
      },
      "outputs": [
        {
          "name": "stdout",
          "output_type": "stream",
          "text": [
            "Help on class set in module builtins:\n",
            "\n",
            "class set(object)\n",
            " |  set() -> new empty set object\n",
            " |  set(iterable) -> new set object\n",
            " |  \n",
            " |  Build an unordered collection of unique elements.\n",
            " |  \n",
            " |  Methods defined here:\n",
            " |  \n",
            " |  __and__(self, value, /)\n",
            " |      Return self&value.\n",
            " |  \n",
            " |  __contains__(...)\n",
            " |      x.__contains__(y) <==> y in x.\n",
            " |  \n",
            " |  __eq__(self, value, /)\n",
            " |      Return self==value.\n",
            " |  \n",
            " |  __ge__(self, value, /)\n",
            " |      Return self>=value.\n",
            " |  \n",
            " |  __getattribute__(self, name, /)\n",
            " |      Return getattr(self, name).\n",
            " |  \n",
            " |  __gt__(self, value, /)\n",
            " |      Return self>value.\n",
            " |  \n",
            " |  __iand__(self, value, /)\n",
            " |      Return self&=value.\n",
            " |  \n",
            " |  __init__(self, /, *args, **kwargs)\n",
            " |      Initialize self.  See help(type(self)) for accurate signature.\n",
            " |  \n",
            " |  __ior__(self, value, /)\n",
            " |      Return self|=value.\n",
            " |  \n",
            " |  __isub__(self, value, /)\n",
            " |      Return self-=value.\n",
            " |  \n",
            " |  __iter__(self, /)\n",
            " |      Implement iter(self).\n",
            " |  \n",
            " |  __ixor__(self, value, /)\n",
            " |      Return self^=value.\n",
            " |  \n",
            " |  __le__(self, value, /)\n",
            " |      Return self<=value.\n",
            " |  \n",
            " |  __len__(self, /)\n",
            " |      Return len(self).\n",
            " |  \n",
            " |  __lt__(self, value, /)\n",
            " |      Return self<value.\n",
            " |  \n",
            " |  __ne__(self, value, /)\n",
            " |      Return self!=value.\n",
            " |  \n",
            " |  __or__(self, value, /)\n",
            " |      Return self|value.\n",
            " |  \n",
            " |  __rand__(self, value, /)\n",
            " |      Return value&self.\n",
            " |  \n",
            " |  __reduce__(...)\n",
            " |      Return state information for pickling.\n",
            " |  \n",
            " |  __repr__(self, /)\n",
            " |      Return repr(self).\n",
            " |  \n",
            " |  __ror__(self, value, /)\n",
            " |      Return value|self.\n",
            " |  \n",
            " |  __rsub__(self, value, /)\n",
            " |      Return value-self.\n",
            " |  \n",
            " |  __rxor__(self, value, /)\n",
            " |      Return value^self.\n",
            " |  \n",
            " |  __sizeof__(...)\n",
            " |      S.__sizeof__() -> size of S in memory, in bytes\n",
            " |  \n",
            " |  __sub__(self, value, /)\n",
            " |      Return self-value.\n",
            " |  \n",
            " |  __xor__(self, value, /)\n",
            " |      Return self^value.\n",
            " |  \n",
            " |  add(...)\n",
            " |      Add an element to a set.\n",
            " |      \n",
            " |      This has no effect if the element is already present.\n",
            " |  \n",
            " |  clear(...)\n",
            " |      Remove all elements from this set.\n",
            " |  \n",
            " |  copy(...)\n",
            " |      Return a shallow copy of a set.\n",
            " |  \n",
            " |  difference(...)\n",
            " |      Return the difference of two or more sets as a new set.\n",
            " |      \n",
            " |      (i.e. all elements that are in this set but not the others.)\n",
            " |  \n",
            " |  difference_update(...)\n",
            " |      Remove all elements of another set from this set.\n",
            " |  \n",
            " |  discard(...)\n",
            " |      Remove an element from a set if it is a member.\n",
            " |      \n",
            " |      Unlike set.remove(), the discard() method does not raise\n",
            " |      an exception when an element is missing from the set.\n",
            " |  \n",
            " |  intersection(...)\n",
            " |      Return the intersection of two sets as a new set.\n",
            " |      \n",
            " |      (i.e. all elements that are in both sets.)\n",
            " |  \n",
            " |  intersection_update(...)\n",
            " |      Update a set with the intersection of itself and another.\n",
            " |  \n",
            " |  isdisjoint(...)\n",
            " |      Return True if two sets have a null intersection.\n",
            " |  \n",
            " |  issubset(...)\n",
            " |      Report whether another set contains this set.\n",
            " |  \n",
            " |  issuperset(...)\n",
            " |      Report whether this set contains another set.\n",
            " |  \n",
            " |  pop(...)\n",
            " |      Remove and return an arbitrary set element.\n",
            " |      Raises KeyError if the set is empty.\n",
            " |  \n",
            " |  remove(...)\n",
            " |      Remove an element from a set; it must be a member.\n",
            " |      \n",
            " |      If the element is not a member, raise a KeyError.\n",
            " |  \n",
            " |  symmetric_difference(...)\n",
            " |      Return the symmetric difference of two sets as a new set.\n",
            " |      \n",
            " |      (i.e. all elements that are in exactly one of the sets.)\n",
            " |  \n",
            " |  symmetric_difference_update(...)\n",
            " |      Update a set with the symmetric difference of itself and another.\n",
            " |  \n",
            " |  union(...)\n",
            " |      Return the union of sets as a new set.\n",
            " |      \n",
            " |      (i.e. all elements that are in either set.)\n",
            " |  \n",
            " |  update(...)\n",
            " |      Update a set with the union of itself and others.\n",
            " |  \n",
            " |  ----------------------------------------------------------------------\n",
            " |  Class methods defined here:\n",
            " |  \n",
            " |  __class_getitem__(...) from builtins.type\n",
            " |      See PEP 585\n",
            " |  \n",
            " |  ----------------------------------------------------------------------\n",
            " |  Static methods defined here:\n",
            " |  \n",
            " |  __new__(*args, **kwargs) from builtins.type\n",
            " |      Create and return a new object.  See help(type) for accurate signature.\n",
            " |  \n",
            " |  ----------------------------------------------------------------------\n",
            " |  Data and other attributes defined here:\n",
            " |  \n",
            " |  __hash__ = None\n",
            "\n"
          ]
        }
      ],
      "source": [
        "help(set)"
      ]
    },
    {
      "cell_type": "code",
      "execution_count": null,
      "id": "95d9acf4",
      "metadata": {
        "id": "95d9acf4"
      },
      "outputs": [],
      "source": [
        "set1=set([1,1,2])"
      ]
    },
    {
      "cell_type": "code",
      "execution_count": null,
      "id": "00c0a3fd",
      "metadata": {
        "id": "00c0a3fd",
        "outputId": "341947e3-ece0-47a3-c957-b4929a73af9a"
      },
      "outputs": [
        {
          "data": {
            "text/plain": [
              "{1, 2}"
            ]
          },
          "execution_count": 35,
          "metadata": {},
          "output_type": "execute_result"
        }
      ],
      "source": [
        "set1"
      ]
    },
    {
      "cell_type": "code",
      "execution_count": null,
      "id": "c4974e62",
      "metadata": {
        "id": "c4974e62",
        "outputId": "929a5372-e6e6-4774-bfaa-96831d41ffe0"
      },
      "outputs": [
        {
          "data": {
            "text/plain": [
              "set"
            ]
          },
          "execution_count": 36,
          "metadata": {},
          "output_type": "execute_result"
        }
      ],
      "source": [
        "type(set1)"
      ]
    },
    {
      "cell_type": "code",
      "execution_count": null,
      "id": "b03286db",
      "metadata": {
        "id": "b03286db",
        "outputId": "69fbe034-fdd7-4876-e9a9-511903c79bd6"
      },
      "outputs": [
        {
          "name": "stdout",
          "output_type": "stream",
          "text": [
            "1\n",
            "2\n"
          ]
        }
      ],
      "source": [
        "for i in set1:\n",
        "    print(i)"
      ]
    },
    {
      "cell_type": "code",
      "execution_count": null,
      "id": "5718c96d",
      "metadata": {
        "id": "5718c96d",
        "outputId": "c706ef64-503d-45c3-9683-165c9f98adac"
      },
      "outputs": [
        {
          "name": "stdout",
          "output_type": "stream",
          "text": [
            "1\n",
            "2\n",
            "3\n",
            "4\n"
          ]
        }
      ],
      "source": [
        "a=1\n",
        "while a<5:\n",
        "    print(a)\n",
        "    a+=1"
      ]
    },
    {
      "cell_type": "code",
      "execution_count": null,
      "id": "7abed48e",
      "metadata": {
        "id": "7abed48e"
      },
      "outputs": [],
      "source": []
    }
  ],
  "metadata": {
    "kernelspec": {
      "display_name": "Python 3 (ipykernel)",
      "language": "python",
      "name": "python3"
    },
    "language_info": {
      "codemirror_mode": {
        "name": "ipython",
        "version": 3
      },
      "file_extension": ".py",
      "mimetype": "text/x-python",
      "name": "python",
      "nbconvert_exporter": "python",
      "pygments_lexer": "ipython3",
      "version": "3.11.5"
    },
    "colab": {
      "provenance": [],
      "include_colab_link": true
    }
  },
  "nbformat": 4,
  "nbformat_minor": 5
}