{
  "cells": [
    {
      "cell_type": "markdown",
      "metadata": {
        "id": "view-in-github",
        "colab_type": "text"
      },
      "source": [
        "<a href=\"https://colab.research.google.com/github/korCarrot/pythonBasic/blob/main/%ED%8C%8C%EC%9D%B4%EC%8D%AC_%EA%B8%B0%EC%B4%881.ipynb\" target=\"_parent\"><img src=\"https://colab.research.google.com/assets/colab-badge.svg\" alt=\"Open In Colab\"/></a>"
      ]
    },
    {
      "cell_type": "code",
      "execution_count": null,
      "id": "48ab9a35",
      "metadata": {
        "id": "48ab9a35"
      },
      "outputs": [],
      "source": [
        "str1=\"hi\""
      ]
    },
    {
      "cell_type": "code",
      "execution_count": null,
      "id": "9f0e4515",
      "metadata": {
        "id": "9f0e4515",
        "outputId": "7c89f25c-4cdd-4e09-e7c6-f0f747e748bb"
      },
      "outputs": [
        {
          "name": "stdout",
          "output_type": "stream",
          "text": [
            "hi\n"
          ]
        }
      ],
      "source": [
        "print(str1)"
      ]
    },
    {
      "cell_type": "code",
      "execution_count": null,
      "id": "9d825cde",
      "metadata": {
        "id": "9d825cde",
        "outputId": "d4e80776-e06c-4af0-f663-fe15abbf0b0f"
      },
      "outputs": [
        {
          "data": {
            "text/plain": [
              "str"
            ]
          },
          "execution_count": 3,
          "metadata": {},
          "output_type": "execute_result"
        }
      ],
      "source": [
        "type(str1)"
      ]
    },
    {
      "cell_type": "code",
      "execution_count": null,
      "id": "f53fb988",
      "metadata": {
        "id": "f53fb988"
      },
      "outputs": [],
      "source": [
        "num1=5"
      ]
    },
    {
      "cell_type": "code",
      "execution_count": null,
      "id": "bf456972",
      "metadata": {
        "id": "bf456972",
        "outputId": "ce893a18-92ed-487a-8888-ca22ffa37b7a"
      },
      "outputs": [
        {
          "data": {
            "text/plain": [
              "int"
            ]
          },
          "execution_count": 6,
          "metadata": {},
          "output_type": "execute_result"
        }
      ],
      "source": [
        "type(num1)"
      ]
    },
    {
      "cell_type": "code",
      "execution_count": null,
      "id": "94e0310d",
      "metadata": {
        "id": "94e0310d",
        "outputId": "a2b5e131-7a01-4b59-fe64-73989ce55905"
      },
      "outputs": [
        {
          "data": {
            "text/plain": [
              "140724978357160"
            ]
          },
          "execution_count": 9,
          "metadata": {},
          "output_type": "execute_result"
        }
      ],
      "source": [
        "id(num1)"
      ]
    },
    {
      "cell_type": "code",
      "execution_count": null,
      "id": "36ad13e2",
      "metadata": {
        "id": "36ad13e2"
      },
      "outputs": [],
      "source": [
        "num1=str(num1)"
      ]
    },
    {
      "cell_type": "code",
      "execution_count": null,
      "id": "15f9074b",
      "metadata": {
        "id": "15f9074b",
        "outputId": "5ea9ef91-eb0f-40a0-c5f1-1754de1455f7"
      },
      "outputs": [
        {
          "data": {
            "text/plain": [
              "1713410299056"
            ]
          },
          "execution_count": 12,
          "metadata": {},
          "output_type": "execute_result"
        }
      ],
      "source": [
        "id(num1)"
      ]
    },
    {
      "cell_type": "code",
      "execution_count": null,
      "id": "aed09187",
      "metadata": {
        "id": "aed09187",
        "outputId": "b95d9e82-7500-49f3-cd1c-c5184b15c4fb"
      },
      "outputs": [
        {
          "data": {
            "text/plain": [
              "str"
            ]
          },
          "execution_count": 13,
          "metadata": {},
          "output_type": "execute_result"
        }
      ],
      "source": [
        "type(num1)"
      ]
    },
    {
      "cell_type": "code",
      "execution_count": null,
      "id": "5e20506e",
      "metadata": {
        "id": "5e20506e"
      },
      "outputs": [],
      "source": [
        "# 배열 numpy.arr\n",
        "# 리스트 list"
      ]
    },
    {
      "cell_type": "code",
      "execution_count": null,
      "id": "f77ee78b",
      "metadata": {
        "id": "f77ee78b"
      },
      "outputs": [],
      "source": [
        "li1=['hi',4]"
      ]
    },
    {
      "cell_type": "code",
      "execution_count": null,
      "id": "6463fb18",
      "metadata": {
        "id": "6463fb18",
        "outputId": "61d6c6c4-c230-478c-e800-8c661376fcfe"
      },
      "outputs": [
        {
          "data": {
            "text/plain": [
              "list"
            ]
          },
          "execution_count": 18,
          "metadata": {},
          "output_type": "execute_result"
        }
      ],
      "source": [
        "type(li1)"
      ]
    },
    {
      "cell_type": "code",
      "execution_count": null,
      "id": "e18131f1",
      "metadata": {
        "id": "e18131f1"
      },
      "outputs": [],
      "source": [
        "import numpy"
      ]
    },
    {
      "cell_type": "code",
      "execution_count": null,
      "id": "8b90c2d6",
      "metadata": {
        "id": "8b90c2d6"
      },
      "outputs": [],
      "source": [
        "import numpy as np"
      ]
    },
    {
      "cell_type": "code",
      "execution_count": null,
      "id": "c1cfcc35",
      "metadata": {
        "id": "c1cfcc35",
        "outputId": "0b48f8d0-493f-4735-8021-a676097f6c58"
      },
      "outputs": [
        {
          "data": {
            "text/plain": [
              "array(['hi', '4'], dtype='<U11')"
            ]
          },
          "execution_count": 19,
          "metadata": {},
          "output_type": "execute_result"
        }
      ],
      "source": [
        "np.array(li1)"
      ]
    },
    {
      "cell_type": "code",
      "execution_count": null,
      "id": "03d0030f",
      "metadata": {
        "id": "03d0030f"
      },
      "outputs": [],
      "source": [
        "arr1=np.array(li1)"
      ]
    },
    {
      "cell_type": "code",
      "execution_count": null,
      "id": "1479d460",
      "metadata": {
        "id": "1479d460",
        "outputId": "1bf879c7-2c3b-47be-be43-f7d02c57ddae"
      },
      "outputs": [
        {
          "data": {
            "text/plain": [
              "numpy.ndarray"
            ]
          },
          "execution_count": 21,
          "metadata": {},
          "output_type": "execute_result"
        }
      ],
      "source": [
        "type(arr1)"
      ]
    },
    {
      "cell_type": "code",
      "execution_count": null,
      "id": "468c72b0",
      "metadata": {
        "id": "468c72b0"
      },
      "outputs": [],
      "source": [
        "# help(set)"
      ]
    },
    {
      "cell_type": "code",
      "execution_count": null,
      "id": "e24cc9c4",
      "metadata": {
        "id": "e24cc9c4",
        "outputId": "3209bc31-a7ce-484c-a1f6-d987d9dd655f"
      },
      "outputs": [
        {
          "data": {
            "text/plain": [
              "{1, 3}"
            ]
          },
          "execution_count": 24,
          "metadata": {},
          "output_type": "execute_result"
        }
      ],
      "source": [
        "set([1,1,3])"
      ]
    },
    {
      "cell_type": "code",
      "execution_count": null,
      "id": "9c8b1018",
      "metadata": {
        "id": "9c8b1018",
        "outputId": "607d02ab-4e31-4a5d-f6ff-da04654d8e1d"
      },
      "outputs": [
        {
          "name": "stdout",
          "output_type": "stream",
          "text": [
            "Help on class dict in module builtins:\n",
            "\n",
            "class dict(object)\n",
            " |  dict() -> new empty dictionary\n",
            " |  dict(mapping) -> new dictionary initialized from a mapping object's\n",
            " |      (key, value) pairs\n",
            " |  dict(iterable) -> new dictionary initialized as if via:\n",
            " |      d = {}\n",
            " |      for k, v in iterable:\n",
            " |          d[k] = v\n",
            " |  dict(**kwargs) -> new dictionary initialized with the name=value pairs\n",
            " |      in the keyword argument list.  For example:  dict(one=1, two=2)\n",
            " |  \n",
            " |  Built-in subclasses:\n",
            " |      StgDict\n",
            " |  \n",
            " |  Methods defined here:\n",
            " |  \n",
            " |  __contains__(self, key, /)\n",
            " |      True if the dictionary has the specified key, else False.\n",
            " |  \n",
            " |  __delitem__(self, key, /)\n",
            " |      Delete self[key].\n",
            " |  \n",
            " |  __eq__(self, value, /)\n",
            " |      Return self==value.\n",
            " |  \n",
            " |  __ge__(self, value, /)\n",
            " |      Return self>=value.\n",
            " |  \n",
            " |  __getattribute__(self, name, /)\n",
            " |      Return getattr(self, name).\n",
            " |  \n",
            " |  __getitem__(...)\n",
            " |      x.__getitem__(y) <==> x[y]\n",
            " |  \n",
            " |  __gt__(self, value, /)\n",
            " |      Return self>value.\n",
            " |  \n",
            " |  __init__(self, /, *args, **kwargs)\n",
            " |      Initialize self.  See help(type(self)) for accurate signature.\n",
            " |  \n",
            " |  __ior__(self, value, /)\n",
            " |      Return self|=value.\n",
            " |  \n",
            " |  __iter__(self, /)\n",
            " |      Implement iter(self).\n",
            " |  \n",
            " |  __le__(self, value, /)\n",
            " |      Return self<=value.\n",
            " |  \n",
            " |  __len__(self, /)\n",
            " |      Return len(self).\n",
            " |  \n",
            " |  __lt__(self, value, /)\n",
            " |      Return self<value.\n",
            " |  \n",
            " |  __ne__(self, value, /)\n",
            " |      Return self!=value.\n",
            " |  \n",
            " |  __or__(self, value, /)\n",
            " |      Return self|value.\n",
            " |  \n",
            " |  __repr__(self, /)\n",
            " |      Return repr(self).\n",
            " |  \n",
            " |  __reversed__(self, /)\n",
            " |      Return a reverse iterator over the dict keys.\n",
            " |  \n",
            " |  __ror__(self, value, /)\n",
            " |      Return value|self.\n",
            " |  \n",
            " |  __setitem__(self, key, value, /)\n",
            " |      Set self[key] to value.\n",
            " |  \n",
            " |  __sizeof__(...)\n",
            " |      D.__sizeof__() -> size of D in memory, in bytes\n",
            " |  \n",
            " |  clear(...)\n",
            " |      D.clear() -> None.  Remove all items from D.\n",
            " |  \n",
            " |  copy(...)\n",
            " |      D.copy() -> a shallow copy of D\n",
            " |  \n",
            " |  get(self, key, default=None, /)\n",
            " |      Return the value for key if key is in the dictionary, else default.\n",
            " |  \n",
            " |  items(...)\n",
            " |      D.items() -> a set-like object providing a view on D's items\n",
            " |  \n",
            " |  keys(...)\n",
            " |      D.keys() -> a set-like object providing a view on D's keys\n",
            " |  \n",
            " |  pop(...)\n",
            " |      D.pop(k[,d]) -> v, remove specified key and return the corresponding value.\n",
            " |      \n",
            " |      If the key is not found, return the default if given; otherwise,\n",
            " |      raise a KeyError.\n",
            " |  \n",
            " |  popitem(self, /)\n",
            " |      Remove and return a (key, value) pair as a 2-tuple.\n",
            " |      \n",
            " |      Pairs are returned in LIFO (last-in, first-out) order.\n",
            " |      Raises KeyError if the dict is empty.\n",
            " |  \n",
            " |  setdefault(self, key, default=None, /)\n",
            " |      Insert key with a value of default if key is not in the dictionary.\n",
            " |      \n",
            " |      Return the value for key if key is in the dictionary, else default.\n",
            " |  \n",
            " |  update(...)\n",
            " |      D.update([E, ]**F) -> None.  Update D from dict/iterable E and F.\n",
            " |      If E is present and has a .keys() method, then does:  for k in E: D[k] = E[k]\n",
            " |      If E is present and lacks a .keys() method, then does:  for k, v in E: D[k] = v\n",
            " |      In either case, this is followed by: for k in F:  D[k] = F[k]\n",
            " |  \n",
            " |  values(...)\n",
            " |      D.values() -> an object providing a view on D's values\n",
            " |  \n",
            " |  ----------------------------------------------------------------------\n",
            " |  Class methods defined here:\n",
            " |  \n",
            " |  __class_getitem__(...) from builtins.type\n",
            " |      See PEP 585\n",
            " |  \n",
            " |  fromkeys(iterable, value=None, /) from builtins.type\n",
            " |      Create a new dictionary with keys from iterable and values set to value.\n",
            " |  \n",
            " |  ----------------------------------------------------------------------\n",
            " |  Static methods defined here:\n",
            " |  \n",
            " |  __new__(*args, **kwargs) from builtins.type\n",
            " |      Create and return a new object.  See help(type) for accurate signature.\n",
            " |  \n",
            " |  ----------------------------------------------------------------------\n",
            " |  Data and other attributes defined here:\n",
            " |  \n",
            " |  __hash__ = None\n",
            "\n"
          ]
        }
      ],
      "source": [
        "help(dict)"
      ]
    },
    {
      "cell_type": "code",
      "execution_count": null,
      "id": "a2cc403e",
      "metadata": {
        "id": "a2cc403e"
      },
      "outputs": [],
      "source": [
        "dict1={'a':'apple'}"
      ]
    },
    {
      "cell_type": "code",
      "execution_count": null,
      "id": "de5c7f78",
      "metadata": {
        "id": "de5c7f78",
        "outputId": "65665315-ac61-44e1-c8e2-e200120857c2"
      },
      "outputs": [
        {
          "data": {
            "text/plain": [
              "dict"
            ]
          },
          "execution_count": 34,
          "metadata": {},
          "output_type": "execute_result"
        }
      ],
      "source": [
        "type(dict1)"
      ]
    },
    {
      "cell_type": "code",
      "execution_count": null,
      "id": "29f80176",
      "metadata": {
        "id": "29f80176",
        "outputId": "515bb08a-11bf-4237-a9ee-dd0e36ffb778"
      },
      "outputs": [
        {
          "data": {
            "text/plain": [
              "'apple'"
            ]
          },
          "execution_count": 35,
          "metadata": {},
          "output_type": "execute_result"
        }
      ],
      "source": [
        "dict1['a']"
      ]
    },
    {
      "cell_type": "code",
      "execution_count": null,
      "id": "c674718f",
      "metadata": {
        "id": "c674718f"
      },
      "outputs": [],
      "source": [
        "dict1={'a':'apple', 'b':'banana'}"
      ]
    },
    {
      "cell_type": "code",
      "execution_count": null,
      "id": "ab328e9e",
      "metadata": {
        "id": "ab328e9e",
        "outputId": "c1408fcc-cccf-4e71-c425-208fb6b5cc3a"
      },
      "outputs": [
        {
          "data": {
            "text/plain": [
              "'banana'"
            ]
          },
          "execution_count": 37,
          "metadata": {},
          "output_type": "execute_result"
        }
      ],
      "source": [
        "dict1['b']"
      ]
    },
    {
      "cell_type": "code",
      "execution_count": null,
      "id": "558b0845",
      "metadata": {
        "id": "558b0845"
      },
      "outputs": [],
      "source": [
        "# list"
      ]
    },
    {
      "cell_type": "code",
      "execution_count": null,
      "id": "6138ad77",
      "metadata": {
        "id": "6138ad77"
      },
      "outputs": [],
      "source": [
        "li=[1,\"hi\",True]"
      ]
    },
    {
      "cell_type": "code",
      "execution_count": null,
      "id": "2b28aff8",
      "metadata": {
        "id": "2b28aff8",
        "outputId": "8ba65e48-b661-4582-da76-870cdc1362bc"
      },
      "outputs": [
        {
          "data": {
            "text/plain": [
              "1"
            ]
          },
          "execution_count": 40,
          "metadata": {},
          "output_type": "execute_result"
        }
      ],
      "source": [
        "li[0]"
      ]
    },
    {
      "cell_type": "code",
      "execution_count": null,
      "id": "3e9b6635",
      "metadata": {
        "id": "3e9b6635",
        "outputId": "d55feb46-e670-4cda-dc7d-8f8b5d2f9241"
      },
      "outputs": [
        {
          "data": {
            "text/plain": [
              "int"
            ]
          },
          "execution_count": 41,
          "metadata": {},
          "output_type": "execute_result"
        }
      ],
      "source": [
        "type(li[0])"
      ]
    },
    {
      "cell_type": "code",
      "execution_count": null,
      "id": "c339bc8a",
      "metadata": {
        "id": "c339bc8a",
        "outputId": "985de194-0ce6-48fb-be89-eb45c903b24b"
      },
      "outputs": [
        {
          "data": {
            "text/plain": [
              "str"
            ]
          },
          "execution_count": 42,
          "metadata": {},
          "output_type": "execute_result"
        }
      ],
      "source": [
        "type(li[1])"
      ]
    },
    {
      "cell_type": "code",
      "execution_count": null,
      "id": "69c56cfe",
      "metadata": {
        "id": "69c56cfe",
        "outputId": "9dbae8ba-5bfd-4d2f-e7f7-d57c215cd963"
      },
      "outputs": [
        {
          "data": {
            "text/plain": [
              "bool"
            ]
          },
          "execution_count": 43,
          "metadata": {},
          "output_type": "execute_result"
        }
      ],
      "source": [
        "type(li[2])"
      ]
    },
    {
      "cell_type": "code",
      "execution_count": null,
      "id": "ae8745e1",
      "metadata": {
        "id": "ae8745e1"
      },
      "outputs": [],
      "source": [
        "li[0]=2"
      ]
    },
    {
      "cell_type": "code",
      "execution_count": null,
      "id": "3d8a1c57",
      "metadata": {
        "id": "3d8a1c57",
        "outputId": "f5d4faaf-d3b6-467f-8c6d-64441096440d"
      },
      "outputs": [
        {
          "data": {
            "text/plain": [
              "[2, 'hi', True]"
            ]
          },
          "execution_count": 45,
          "metadata": {},
          "output_type": "execute_result"
        }
      ],
      "source": [
        "li"
      ]
    },
    {
      "cell_type": "code",
      "execution_count": null,
      "id": "6789775e",
      "metadata": {
        "id": "6789775e"
      },
      "outputs": [],
      "source": [
        "# 값을 바꾸고 싶지 않을 경우 tuple ( )"
      ]
    },
    {
      "cell_type": "code",
      "execution_count": null,
      "id": "b55b5209",
      "metadata": {
        "id": "b55b5209"
      },
      "outputs": [],
      "source": [
        "tu1=(1,\"hi\",True)"
      ]
    },
    {
      "cell_type": "code",
      "execution_count": null,
      "id": "46e8dc61",
      "metadata": {
        "id": "46e8dc61",
        "outputId": "6d6e7b0b-7c96-4d96-fcb8-078eaf8c111d"
      },
      "outputs": [
        {
          "data": {
            "text/plain": [
              "tuple"
            ]
          },
          "execution_count": 50,
          "metadata": {},
          "output_type": "execute_result"
        }
      ],
      "source": [
        "type(tu1)"
      ]
    },
    {
      "cell_type": "code",
      "execution_count": null,
      "id": "4240b9de",
      "metadata": {
        "id": "4240b9de",
        "outputId": "4372074e-701e-4e52-b934-6aba0ae093ac"
      },
      "outputs": [
        {
          "data": {
            "text/plain": [
              "1"
            ]
          },
          "execution_count": 51,
          "metadata": {},
          "output_type": "execute_result"
        }
      ],
      "source": [
        "tu1[0]"
      ]
    },
    {
      "cell_type": "code",
      "execution_count": null,
      "id": "4a64a559",
      "metadata": {
        "id": "4a64a559",
        "outputId": "29c6b153-a0f5-48c1-930b-925f0b1dbd60"
      },
      "outputs": [
        {
          "data": {
            "text/plain": [
              "(1, 'hi', True)"
            ]
          },
          "execution_count": 52,
          "metadata": {},
          "output_type": "execute_result"
        }
      ],
      "source": [
        "tu1"
      ]
    },
    {
      "cell_type": "code",
      "execution_count": null,
      "id": "90808cb8",
      "metadata": {
        "id": "90808cb8",
        "outputId": "a42899c1-9782-41cc-b363-2a9da9d00046"
      },
      "outputs": [
        {
          "ename": "TypeError",
          "evalue": "'tuple' object does not support item assignment",
          "output_type": "error",
          "traceback": [
            "\u001b[1;31m---------------------------------------------------------------------------\u001b[0m",
            "\u001b[1;31mTypeError\u001b[0m                                 Traceback (most recent call last)",
            "Cell \u001b[1;32mIn[53], line 1\u001b[0m\n\u001b[1;32m----> 1\u001b[0m tu1[\u001b[38;5;241m0\u001b[39m]\u001b[38;5;241m=\u001b[39m\u001b[38;5;241m2\u001b[39m\n",
            "\u001b[1;31mTypeError\u001b[0m: 'tuple' object does not support item assignment"
          ]
        }
      ],
      "source": [
        "tu1[0]=2"
      ]
    },
    {
      "cell_type": "code",
      "execution_count": null,
      "id": "f7e97751",
      "metadata": {
        "id": "f7e97751"
      },
      "outputs": [],
      "source": []
    }
  ],
  "metadata": {
    "kernelspec": {
      "display_name": "Python 3 (ipykernel)",
      "language": "python",
      "name": "python3"
    },
    "language_info": {
      "codemirror_mode": {
        "name": "ipython",
        "version": 3
      },
      "file_extension": ".py",
      "mimetype": "text/x-python",
      "name": "python",
      "nbconvert_exporter": "python",
      "pygments_lexer": "ipython3",
      "version": "3.11.5"
    },
    "colab": {
      "provenance": [],
      "include_colab_link": true
    }
  },
  "nbformat": 4,
  "nbformat_minor": 5
}